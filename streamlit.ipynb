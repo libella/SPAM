{
 "cells": [
  {
   "cell_type": "code",
   "execution_count": 3,
   "id": "721b2251-5f5c-4054-b808-e067fe1fb2a2",
   "metadata": {},
   "outputs": [
    {
     "ename": "AttributeError",
     "evalue": "partially initialized module 'streamlit' has no attribute 'title' (most likely due to a circular import)",
     "output_type": "error",
     "traceback": [
      "\u001b[0;31m---------------------------------------------------------------------------\u001b[0m",
      "\u001b[0;31mAttributeError\u001b[0m                            Traceback (most recent call last)",
      "Cell \u001b[0;32mIn[3], line 1\u001b[0m\n\u001b[0;32m----> 1\u001b[0m \u001b[38;5;28;01mimport\u001b[39;00m \u001b[38;5;21;01mstreamlit\u001b[39;00m \u001b[38;5;28;01mas\u001b[39;00m \u001b[38;5;21;01mst\u001b[39;00m\n\u001b[1;32m      2\u001b[0m \u001b[38;5;28;01mimport\u001b[39;00m \u001b[38;5;21;01mjoblib\u001b[39;00m\n\u001b[1;32m      4\u001b[0m \u001b[38;5;66;03m# Lade das trainierte Modell und den Vektorisierer\u001b[39;00m\n",
      "File \u001b[0;32m~/IKT_Projekt/streamlit.py:9\u001b[0m\n\u001b[1;32m      6\u001b[0m vectorizer \u001b[38;5;241m=\u001b[39m joblib\u001b[38;5;241m.\u001b[39mload(\u001b[38;5;124m'\u001b[39m\u001b[38;5;124mvectorizer.joblib\u001b[39m\u001b[38;5;124m'\u001b[39m)\n\u001b[1;32m      8\u001b[0m \u001b[38;5;66;03m# Titel und Beschreibung der App\u001b[39;00m\n\u001b[0;32m----> 9\u001b[0m \u001b[43mst\u001b[49m\u001b[38;5;241;43m.\u001b[39;49m\u001b[43mtitle\u001b[49m(\u001b[38;5;124m'\u001b[39m\u001b[38;5;124mSpam-Projekt, IKT-SS24\u001b[39m\u001b[38;5;124m'\u001b[39m)\n\u001b[1;32m     10\u001b[0m st\u001b[38;5;241m.\u001b[39msubheader(\u001b[38;5;124m'\u001b[39m\u001b[38;5;124mIrina Ukhanova\u001b[39m\u001b[38;5;124m'\u001b[39m)\n\u001b[1;32m     12\u001b[0m st\u001b[38;5;241m.\u001b[39msubheader(\u001b[38;5;124m'\u001b[39m\u001b[38;5;124mIst diese Nachricht Spam oder nicht?\u001b[39m\u001b[38;5;124m'\u001b[39m)\n",
      "\u001b[0;31mAttributeError\u001b[0m: partially initialized module 'streamlit' has no attribute 'title' (most likely due to a circular import)"
     ]
    }
   ],
   "source": [
    "import streamlit as st\n",
    "import joblib\n",
    "\n",
    "# Lade das trainierte Modell und den Vektorisierer\n",
    "model = joblib.load('spam_modelR.joblib')\n",
    "vectorizer = joblib.load('vectorizer.joblib')\n",
    "\n",
    "# Titel und Beschreibung der App\n",
    "st.title('Spam-Projekt, IKT-SS24')\n",
    "st.subheader('Irina Ukhanova')\n",
    "\n",
    "st.subheader('Ist diese Nachricht Spam oder nicht?')\n",
    "st.write('Probieren Sie dieses ML-Modell aus, um zu prüfen, ob die Nachricht auf den P4G-Portalen als Spam markiert werden sollte.')\n",
    "\n",
    "# Text-Eingabe vom Nutzer\n",
    "input_text = st.text_area('Nachricht eingeben:')\n",
    "\n",
    "if st.button('Überprüfen'):\n",
    "    if input_text:\n",
    "        # Verarbeite die Nutzereingabe\n",
    "        input_vector = vectorizer.transform([input_text])\n",
    "        \n",
    "        # Vorhersage\n",
    "        prediction = model.predict(input_vector)\n",
    "        \n",
    "        # Zeige das Ergebnis an\n",
    "        if prediction == 1:\n",
    "            st.error('Diese Nachricht ist **Spam**.')\n",
    "        else:\n",
    "            st.success('Diese Nachricht ist **kein Spam**.')\n",
    "    else:\n",
    "        st.warning('Bitte geben Sie eine Nachricht ein.')\n",
    "\n",
    "\n",
    "\n",
    "\n",
    "\n",
    "\n",
    "\n",
    "\n",
    "\n",
    "\n",
    "\n"
   ]
  },
  {
   "cell_type": "code",
   "execution_count": null,
   "id": "1d063320-50e0-4ac4-901f-ead7adc5ac78",
   "metadata": {},
   "outputs": [],
   "source": []
  },
  {
   "cell_type": "code",
   "execution_count": null,
   "id": "2398342e-c2a4-46eb-af68-86fab696252c",
   "metadata": {},
   "outputs": [],
   "source": []
  },
  {
   "cell_type": "code",
   "execution_count": null,
   "id": "0c6c8889-d9dc-4308-a284-b4e81cbab8d4",
   "metadata": {},
   "outputs": [],
   "source": []
  },
  {
   "cell_type": "code",
   "execution_count": null,
   "id": "5c2625da-b08a-49e4-83c5-56e2ad2c2e7e",
   "metadata": {},
   "outputs": [],
   "source": []
  },
  {
   "cell_type": "code",
   "execution_count": null,
   "id": "ce0eb5bc-1f5d-4645-a6d5-40e60d9a58e2",
   "metadata": {},
   "outputs": [],
   "source": []
  }
 ],
 "metadata": {
  "kernelspec": {
   "display_name": "Python 3 (ipykernel)",
   "language": "python",
   "name": "python3"
  },
  "language_info": {
   "codemirror_mode": {
    "name": "ipython",
    "version": 3
   },
   "file_extension": ".py",
   "mimetype": "text/x-python",
   "name": "python",
   "nbconvert_exporter": "python",
   "pygments_lexer": "ipython3",
   "version": "3.10.12"
  }
 },
 "nbformat": 4,
 "nbformat_minor": 5
}
